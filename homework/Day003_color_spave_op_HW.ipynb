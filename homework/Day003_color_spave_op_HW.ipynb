{
 "cells": [
  {
   "cell_type": "markdown",
   "metadata": {},
   "outputs": [],
   "source": [
    "# 作業\n",
    "\n",
    "實作各種不一樣的方式來調整飽和 / 對比 / 明亮\n",
    "\n",
    "1. 改變 HSL color space 來調整飽和度\n",
    "2. 實作直方圖均衡\n",
    "3. alpha/ beta 調整對比 / 明亮"
   ]
  },
  {
   "cell_type": "code",
   "execution_count": 4,
   "metadata": {},
   "outputs": [
    {
     "name": "stdout",
     "output_type": "stream",
     "text": "[[[125 137 226]\n  [125 137 226]\n  [133 137 223]\n  ...\n  [122 148 230]\n  [110 130 221]\n  [ 90  99 200]]\n\n [[125 137 226]\n  [125 137 226]\n  [133 137 223]\n  ...\n  [122 148 230]\n  [110 130 221]\n  [ 90  99 200]]\n\n [[125 137 226]\n  [125 137 226]\n  [133 137 223]\n  ...\n  [122 148 230]\n  [110 130 221]\n  [ 90  99 200]]\n\n ...\n\n [[ 60  18  84]\n  [ 60  18  84]\n  [ 58  27  92]\n  ...\n  [ 84  73 173]\n  [ 76  68 172]\n  [ 79  62 177]]\n\n [[ 57  22  82]\n  [ 57  22  82]\n  [ 62  32  96]\n  ...\n  [ 79  70 179]\n  [ 81  71 181]\n  [ 81  74 185]]\n\n [[ 57  22  82]\n  [ 57  22  82]\n  [ 62  32  96]\n  ...\n  [ 79  70 179]\n  [ 81  71 181]\n  [ 81  74 185]]]\n"
    }
   ],
   "source": [
    "import cv2\n",
    "import numpy as np\n",
    "\n",
    "img_path = 'D:/1st-DL-CVMarathon/homework/data/HW001/lena.png'\n",
    "\n",
    "# 以彩色圖片的方式載入\n",
    "img = cv2.imread(img_path, cv2.IMREAD_COLOR)\n",
    "print(img)"
   ]
  },
  {
   "cell_type": "code",
   "metadata": {},
   "outputs": [],
   "source": []
  },
  {
   "cell_type": "markdown",
   "metadata": {},
   "outputs": [],
   "source": [
    "## 改變飽和度\n",
    "\n",
    "- 轉換成 HSV color space, 改變 s channel 的值"
   ]
  },
  {
   "cell_type": "code",
   "execution_count": 11,
   "metadata": {},
   "outputs": [],
   "source": [
    "# 為了要改變飽和度，我們先把 color space 轉成 HSV 格式\n",
    "img_hsv = cv2.cvtColor(img, cv2.COLOR_BGR2HSV)\n",
    "#print(img_hsv)\n",
    "# 操做飽和度時候需要轉成百分比(小數點)\n",
    "change_percentage = 0.2\n",
    "img_hsv_down=img_hls.astype('float32') #float32:從整數變成有小數點的格式\n",
    "#print(img_hls_down)\n",
    "# Nelson: 轉成小數點並調降成兩成飽和度\n",
    "img_hsv_down[..., 1] = img_hsv_down[..., 1] / 255 - change_percentage\n",
    "\n",
    "# 在 HSV color space 增加飽和度\n",
    "# Nelson: 操作飽和度時候需要轉成百分比(小數點)\n",
    "img_hsv_up = img_hsv.astype(\"float32\")\n",
    "# Nelson: 轉成小數點並增加成兩成飽和度\n",
    "img_hsv_up[..., 1] = img_hsv_up[..., 1] / 255 + change_percentage\n",
    "\n",
    "# 轉換 color space 回 BGR\n",
    "# Nelson: 後面再做一些邊緣條件判斷, 確保所有值都在合理範圍(0~1)\n",
    "img_hsv_down[img_hsv_down[..., 1] < 0] = 0\n",
    "img_hsv_up[img_hsv_up[..., 1] > 1] = 1\n",
    "# Nelson: 再把圖片依序轉回0~255區間 > uint8格式 > BGR格式 就可以顯示圖片了\n",
    "img_hsv_down[..., 1] = img_hsv_down[..., 1] * 255\n",
    "img_hsv_down = img_hsv_down.astype(\"uint8\")\n",
    "img_hsv_down = cv2.cvtColor(img_hsv_down, cv2.COLOR_HSV2BGR)\n",
    "img_hsv_up[..., 1] = img_hsv_up[..., 1] * 255\n",
    "img_hsv_up = img_hsv_up.astype(\"uint8\")\n",
    "img_hsv_up = cv2.cvtColor(img_hsv_up, cv2.COLOR_HSV2BGR)\n",
    "\n",
    "while True:\n",
    "    cv2.imshow('img', img)    \n",
    "    cv2.imshow('img_hsv', img_hsv)\n",
    "    cv2.imshow('img_hsv_down', img_hsv_down)\n",
    "    cv2.imshow('img_hsv_up', img_hsv_up)   \n",
    "    k = cv2.waitKey(0)\n",
    "    if k == 27:\n",
    "        cv2.destroyAllWindows()\n",
    "        break"
   ]
  },
  {
   "cell_type": "markdown",
   "metadata": {},
   "outputs": [],
   "source": [
    "## 直方圖均衡\n",
    "\n",
    "1. case 1: 把彩圖拆開對每個 channel 個別做直方圖均衡再組合起來\n",
    "2. case 2: 轉換 color space 到 HSV 之後對其中一個 channel 做直方圖均衡"
   ]
  },
  {
   "cell_type": "code",
   "execution_count": 13,
   "metadata": {},
   "outputs": [],
   "source": [
    "# HW...\n",
    "# case 1\n",
    "# 每個 channel 個別做直方圖均衡\n",
    "# Nelson: https://stackoverflow.com/questions/31998428/opencv-python-equalizehist-colored-image/43063287#43063287\n",
    "equalHist_by_channel = (cv2.equalizeHist(img[:, :, 0]), cv2.equalizeHist(img[:, :, 1]), cv2.equalizeHist(img[:, :, 2]))\n",
    "\n",
    "# HW...\n",
    "# 組合經過直方圖均衡的每個 channel\n",
    "img_bgr_equal = cv2.merge(equalHist_by_channel)\n",
    "\n",
    "# HW...\n",
    "# case 2 - 轉換 color space 後只對其中一個 channel 做直方圖均衡\n",
    "img_hsv_equal = cv2.cvtColor(img, cv2.COLOR_BGR2HSV)\n",
    "H, S, V = cv2.split(img_hsv_equal)\n",
    "img_hsv_equal[:, :, 2] = cv2.equalizeHist(V)\n",
    "img_hsv_equal = cv2.cvtColor(img_hsv_equal, cv2.COLOR_HSV2BGR)\n",
    "\n",
    "# img_hsv_equal = img_hsv.copy()\n",
    "# img_hsv_equal[..., 2] = cv2.equalizeHist(img_hsv[..., 2])\n",
    "# img_hsv_equal = cv2.cvtColor(img_hsv_equal, cv2.COLOR_HSV2BGR)\n",
    "\n",
    "# 組合圖片 + 顯示圖片\n",
    "img_bgr_equalHist = np.hstack((img, img_bgr_equal, img_hsv_equal))\n",
    "while True:\n",
    "    # 比較 (原圖, BGR color space 對每個 channel 做直方圖均衡, HSV color space 對明度做直方圖均衡)\n",
    "    cv2.imshow('bgr equal histogram', img_bgr_equalHist)\n",
    "    k = cv2.waitKey(0)\n",
    "    if k == 27:\n",
    "        cv2.destroyAllWindows()\n",
    "        break"
   ]
  },
  {
   "cell_type": "markdown",
   "metadata": {},
   "outputs": [],
   "source": [
    "## 調整對比 / 明亮"
   ]
  },
  {
   "cell_type": "code",
   "execution_count": 12,
   "metadata": {},
   "outputs": [],
   "source": [
    "# HW...\n",
    "# alpha: 控制對比度 (1.0~3.0)\n",
    "# beta: 控制明亮度 (0~255)\n",
    "add_contrast = cv2.convertScaleAbs(img, alpha=2.0, beta=0)\n",
    "add_lighness = cv2.convertScaleAbs(img, alpha=1.0, beta=100)\n",
    "\n",
    "# 組合圖片 + 顯示圖片\n",
    "img_contrast_light = np.hstack((img, add_contrast, add_lighness))\n",
    "while True:\n",
    "    # 比較不同程度的對比 / 明亮\n",
    "    cv2.imshow('adjust contrast and brighness', img_contrast_light)\n",
    "    k = cv2.waitKey(0)\n",
    "    if k == 27:\n",
    "        cv2.destroyAllWindows()\n",
    "        break"
   ]
  },
  {
   "cell_type": "code",
   "execution_count": null,
   "metadata": {},
   "outputs": [],
   "source": []
  }
 ],
 "metadata": {
  "kernelspec": {
   "display_name": "Python 3",
   "language": "python",
   "name": "python3"
  },
  "language_info": {
   "codemirror_mode": {
    "name": "ipython",
    "version": 3
   },
   "file_extension": ".py",
   "mimetype": "text/x-python",
   "name": "python",
   "nbconvert_exporter": "python",
   "pygments_lexer": "ipython3",
   "version": "3.7.4"
  }
 },
 "nbformat": 4,
 "nbformat_minor": 2
}