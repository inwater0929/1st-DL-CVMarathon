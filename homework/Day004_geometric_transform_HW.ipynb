{
 "cells": [
  {
   "cell_type": "markdown",
   "metadata": {},
   "source": [
    "# 作業\n",
    "\n",
    "實作本篇提到的三大概念\n",
    "\n",
    "- 翻轉：實作上下左右的翻轉\n",
    "- 縮放：比較鄰近差值與雙立方插值 (或雙線性插值) 的圖片品質\n",
    "- 平移：建立 Translation Transformation Matrix 來做平移"
   ]
  },
  {
   "cell_type": "code",
   "execution_count": 1,
   "metadata": {},
   "outputs": [],
   "source": [
    "import cv2\n",
    "import time\n",
    "import numpy as np\n",
    "\n",
    "img_path = 'data/lena.png'\n",
    "img = cv2.imread(img_path)"
   ]
  },
  {
   "cell_type": "markdown",
   "metadata": {},
   "source": [
    "## 上下左右翻轉圖片"
   ]
  },
  {
   "cell_type": "code",
   "execution_count": 2,
   "metadata": {},
   "outputs": [],
   "source": [
    "# 水平翻轉 (horizontal)\n",
    "img_hflip = cv2.flip(img,1)\n",
    "\n",
    "# 垂直翻轉 (vertical)\n",
    "img_vflip = cv2.flip(img,0)\n",
    "\n",
    "# 水平 + 垂直翻轉\n",
    "img_hvflip = cv2.flip(img,-1)\n",
    "\n",
    "# 組合 + 顯示圖片\n",
    "hflip = np.hstack((img, img_hflip)) #水平(按列順序)把陣列給堆疊起來\n",
    "vflip = np.hstack((img_vflip, img_hvflip))\n",
    "img_flip = np.vstack((hflip, vflip)) #垂直(按列順序)把陣列給堆疊起來\n",
    "while True:\n",
    "    cv2.imshow('img', img)\n",
    "    cv2.imshow('img_hflip', img_hflip)\n",
    "    cv2.imshow('img_vflip', img_vflip)\n",
    "    cv2.imshow('hflip', hflip)\n",
    "    cv2.imshow('vflip', vflip)\n",
    "    cv2.imshow('img_flip', img_flip)\n",
    "\n",
    "    k = cv2.waitKey(0)\n",
    "    if k == 27:\n",
    "        cv2.destroyAllWindows()\n",
    "        break"
   ]
  },
  {
   "cell_type": "markdown",
   "metadata": {},
   "source": [
    "## 縮放圖片\n",
    "\n",
    "### 放大\n",
    "\n",
    "我們先透過縮小圖片去壓縮原有圖片保有的資訊，再放大比較不同方法之間的速度與圖片品質"
   ]
  },
  {
   "cell_type": "code",
   "execution_count": 19,
   "metadata": {},
   "outputs": [
    {
     "name": "stdout",
     "output_type": "stream",
     "text": "INTER_NEAREST zoom cost 0.007004499435424805\nINTER_CUBIC zoom cost 0.004008293151855469\n"
    }
   ],
   "source": [
    "# interpolation有四種模式\n",
    "# 1. INTER_NEAREST: 採用鄰近差值\n",
    "# 2. INTER_LINEAR: 雙線性差值 (如果未特別設定, 通常系統會默認此模式)\n",
    "# 3. INTER_AREA: 使用像素區域關係進行重採樣\n",
    "# 4. INTER_CUBIC: 4*4像素鄰域的雙立方插補\n",
    "# 5. INTER_LANCZOS4: 8*8像素鄰域的Lanczos插值\n",
    "\n",
    "\n",
    "# 將圖片縮小成原本的 20%\n",
    "img_test = cv2.resize(img, None, fx=0.2, fy=0.2)\n",
    "\n",
    "# 將圖片放大為\"小圖片\"的 8 倍大 = 原圖的 1.6 倍大\n",
    "fx, fy = 8, 8\n",
    "\n",
    "# 鄰近差值 scale + 計算花費時間\n",
    "start_time = time.time()\n",
    "img_area_scale =  cv2.resize(img_test, None, fx=fx, fy=fy,interpolation=cv2.INTER_NEAREST)\n",
    "print('INTER_NEAREST zoom cost {}'.format(time.time() - start_time))\n",
    "\n",
    "# 雙立方差補 scale + 計算花費時間\n",
    "start_time = time.time()\n",
    "img_cubic_scale = cv2.resize(img_test, None,  fx=fx, fy=fy, interpolation=cv2.INTER_CUBIC)\n",
    "print('INTER_CUBIC zoom cost {}'.format(time.time() - start_time))\n",
    "\n",
    "# 組合 + 顯示圖片\n",
    "img_zoom = np.hstack((img_area_scale, img_cubic_scale))\n",
    "while True:\n",
    "    cv2.imshow('img_test', img_test)\n",
    "    cv2.imshow('img_area_scale', img_area_scale)\n",
    "    cv2.imshow('img_cubic_scale', img_cubic_scale)    \n",
    "    cv2.imshow('img_zoom', img_zoom)\n",
    "    k = cv2.waitKey(0)\n",
    "    if k == 27:\n",
    "        cv2.destroyAllWindows()\n",
    "        break"
   ]
  },
  {
   "cell_type": "markdown",
   "metadata": {},
   "source": [
    "## 平移幾何轉換"
   ]
  },
  {
   "cell_type": "code",
   "execution_count": 20,
   "metadata": {},
   "outputs": [],
   "source": [
    "# 設定 translation transformation matrix\n",
    "# x 平移 50 pixel; y 平移 100 pixel\n",
    "# M = np.array([[1,0,50],[0,1,100]], dtype=np.float32)\n",
    "# 方法2\n",
    "# 平移矩陣M：[[1,0,x],[0,1,y]]\n",
    "M = np.float32([[1,0,100],[0,1,50]])\n",
    "\n",
    "\n",
    "# 組合 + 顯示圖片\n",
    "img_shift = np.hstack((img, shift_img))\n",
    "while True:\n",
    "    cv2.imshow('shift_img', shift_img)\n",
    "    cv2.imshow('shift image', img_shift)\n",
    "    k = cv2.waitKey(0)\n",
    "    if k == 27:\n",
    "        cv2.destroyAllWindows()\n",
    "        break"
   ]
  },
  {
   "cell_type": "code",
   "execution_count": null,
   "metadata": {},
   "outputs": [],
   "source": []
  }
 ],
 "metadata": {
  "kernelspec": {
   "display_name": "Python 3",
   "language": "python",
   "name": "python3"
  },
  "language_info": {
   "codemirror_mode": {
    "name": "ipython",
    "version": 3
   },
   "file_extension": ".py",
   "mimetype": "text/x-python",
   "name": "python",
   "nbconvert_exporter": "python",
   "pygments_lexer": "ipython3",
   "version": "3.7.4-final"
  }
 },
 "nbformat": 4,
 "nbformat_minor": 2
}